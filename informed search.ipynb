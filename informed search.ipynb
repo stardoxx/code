{
 "cells": [
  {
   "cell_type": "code",
   "execution_count": 87,
   "metadata": {},
   "outputs": [],
   "source": [
    "graph = {\n",
    "    's':{'a':6,'b':5,'c':10},\n",
    "    'a':{'e':6,'s':6},\n",
    "    'c':{'s':10,'d':6},\n",
    "    'b':{'e':6,'d':7,'s':5},\n",
    "    'e':{'f':4,'a':6,'b':6},\n",
    "    'd':{'f':6,'b':7,'c':6},\n",
    "    'f':{'g':3,'e':4,'d':6},\n",
    "    'g':{'f':3}\n",
    "}\n",
    "hn = {'s':17,'b':13,'c':4,'a':10,'e':4,'d':2,'f':1,'g':0}"
   ]
  },
  {
   "cell_type": "code",
   "execution_count": 88,
   "metadata": {},
   "outputs": [
    {
     "name": "stdout",
     "output_type": "stream",
     "text": [
      "6\n"
     ]
    }
   ],
   "source": [
    "print(graph['a']['s'])"
   ]
  },
  {
   "cell_type": "code",
   "execution_count": 94,
   "metadata": {},
   "outputs": [],
   "source": [
    "from queue import PriorityQueue "
   ]
  },
  {
   "cell_type": "code",
   "execution_count": 95,
   "metadata": {},
   "outputs": [],
   "source": [
    "pq = PriorityQueue()\n",
    "start = 's'\n",
    "goal  = 'i'"
   ]
  },
  {
   "cell_type": "code",
   "execution_count": 100,
   "metadata": {},
   "outputs": [],
   "source": [
    "def bestFirstSearch(pq,start,goal,graph):\n",
    "    pq.put((0,start))\n",
    "    marked = []\n",
    "    \n",
    "    while pq.empty() != 1 :\n",
    "        a = pq.get()\n",
    "        i = a[1]\n",
    "        #print('a')\n",
    "        if i not in marked:\n",
    "            #print('a')\n",
    "            if i == goal:\n",
    "                print('found: ',i)\n",
    "                return \n",
    "            else:\n",
    "                print(i)\n",
    "                marked.append(i)\n",
    "                d = graph[i]\n",
    "                #print(d)\n",
    "                for key,value in d.items():\n",
    "                    if key not in marked:\n",
    "                        pq.put((value,key))\n",
    "    print('not found')\n",
    "    return\n",
    "        "
   ]
  },
  {
   "cell_type": "code",
   "execution_count": null,
   "metadata": {},
   "outputs": [],
   "source": []
  },
  {
   "cell_type": "code",
   "execution_count": 101,
   "metadata": {},
   "outputs": [
    {
     "name": "stdout",
     "output_type": "stream",
     "text": [
      "s\n",
      "(0, 's')\n",
      "not found\n"
     ]
    }
   ],
   "source": [
    "bestFirstSearch(pq,start,goal,graph)"
   ]
  },
  {
   "cell_type": "code",
   "execution_count": 76,
   "metadata": {},
   "outputs": [],
   "source": [
    "def helper(s,graph,hn,path,gn,marked):\n",
    "    print(s)\n",
    "    print(graph[s])\n",
    "    d = graph[s]\n",
    "    #print(d)\n",
    "    pq = PriorityQueue()\n",
    "    for key,value in d.items():\n",
    "        if key not in marked:\n",
    "            pq.put((value+hn[key],key))\n",
    "            marked.append(key)\n",
    "    a = pq.get()\n",
    "    nextnode = a[1]\n",
    "    weight = a[0]-hn[nextnode]\n",
    "    path.append(nextnode)\n",
    "    gn += weight\n",
    "    return nextnode,path,gn,marked"
   ]
  },
  {
   "cell_type": "code",
   "execution_count": 85,
   "metadata": {},
   "outputs": [],
   "source": [
    "def Astar(graph,start,goal,hn):\n",
    "    path = []\n",
    "    marked = []\n",
    "    gn = 0\n",
    "    if start == goal:\n",
    "        return \n",
    "    else:\n",
    "        s = start\n",
    "        marked.append(s)\n",
    "        path.append(s)\n",
    "        while s != goal:\n",
    "             a,path,gn,marked = helper(s,graph,hn,path,gn,marked)\n",
    "             s = a\n",
    "    print('path: ',path)\n",
    "    print('cost: ',gn)\n",
    "    return \n",
    "            "
   ]
  },
  {
   "cell_type": "code",
   "execution_count": 86,
   "metadata": {},
   "outputs": [
    {
     "name": "stdout",
     "output_type": "stream",
     "text": [
      "s\n",
      "{'a': 6, 'b': 5, 'c': 10}\n",
      "c\n",
      "{'s': 10, 'd': 6}\n",
      "d\n",
      "{'f': 6, 'b': 7, 'c': 6}\n",
      "f\n",
      "{'g': 3, 'e': 4, 'd': 6}\n",
      "path:  ['s', 'c', 'd', 'f', 'g']\n",
      "cost:  25\n"
     ]
    }
   ],
   "source": [
    "start = 's'\n",
    "goal= 'g'\n",
    "Astar(graph,start,goal,hn)"
   ]
  },
  {
   "cell_type": "code",
   "execution_count": 111,
   "metadata": {},
   "outputs": [],
   "source": [
    "#improved version of Astar algorithm\n",
    "class path:\n",
    "    def __init__(self):\n",
    "        self.way = []\n",
    "        self.weight = 0\n",
    "    def cost(self):\n",
    "        return self.weight\n",
    "    def add(self,nextnode,length):\n",
    "        self.way.append(nextnode)\n",
    "        self.weight += length\n",
    "        return\n",
    "    def show(self):\n",
    "        return self.way"
   ]
  },
  {
   "cell_type": "code",
   "execution_count": 112,
   "metadata": {},
   "outputs": [],
   "source": [
    "d = path()"
   ]
  },
  {
   "cell_type": "code",
   "execution_count": 113,
   "metadata": {},
   "outputs": [
    {
     "data": {
      "text/plain": [
       "['a', 'v', 'e']"
      ]
     },
     "execution_count": 113,
     "metadata": {},
     "output_type": "execute_result"
    }
   ],
   "source": [
    "d.add('a',32)\n",
    "d.add('v',54)\n",
    "d.add('e',65)\n",
    "d.cost()\n",
    "d.show()"
   ]
  },
  {
   "cell_type": "code",
   "execution_count": 114,
   "metadata": {},
   "outputs": [
    {
     "ename": "SyntaxError",
     "evalue": "invalid syntax (<ipython-input-114-0c608c746a37>, line 7)",
     "output_type": "error",
     "traceback": [
      "\u001b[0;36m  File \u001b[0;32m\"<ipython-input-114-0c608c746a37>\"\u001b[0;36m, line \u001b[0;32m7\u001b[0m\n\u001b[0;31m    self.\u001b[0m\n\u001b[0m         ^\u001b[0m\n\u001b[0;31mSyntaxError\u001b[0m\u001b[0;31m:\u001b[0m invalid syntax\n"
     ]
    }
   ],
   "source": [
    "class pQueue:\n",
    "    def __init__(self):\n",
    "        self.pq = PriorityQueue()\n",
    "    def getPath(self):\n",
    "        return self.pq.queue[0][1]\n",
    "    def addPath(self,cost,path):\n",
    "        self."
   ]
  },
  {
   "cell_type": "code",
   "execution_count": null,
   "metadata": {},
   "outputs": [],
   "source": [
    "def helpAstar(graph,s,path,syn,pq,hn,gn):\n",
    "    d = graph[s]\n",
    "    q = PriorityQueue()\n",
    "    for key,value in d.items():\n",
    "        if key not in marked:\n",
    "            q.put((value+hn[key],key))\n",
    "    a = q.get()\n",
    "    "
   ]
  },
  {
   "cell_type": "code",
   "execution_count": 115,
   "metadata": {},
   "outputs": [],
   "source": [
    "def astar(graph,start,goal,hn):\n",
    "    marked = []\n",
    "    path ={}\n",
    "    syn = {}\n",
    "    count =0\n",
    "    '''for key,value in graph.items():\n",
    "        syn[key] = count\n",
    "        count += 1'''\n",
    "    for key,value in graph.items():\n",
    "        path[key] = 0\n",
    "    path[start] = -1    \n",
    "    gn=0\n",
    "    pq = PriorityQueue()\n",
    "    pq.put((0,start))\n",
    "    if start == goal:\n",
    "        return\n",
    "    else:\n",
    "        s = start\n",
    "        while s != goal:\n",
    "            if len(marked) == len(graph):\n",
    "                print('not found')\n",
    "                return \n",
    "            else:\n",
    "                s,pq,marked,gn = helpAstar(graph,s,path,)"
   ]
  },
  {
   "cell_type": "code",
   "execution_count": null,
   "metadata": {},
   "outputs": [],
   "source": []
  }
 ],
 "metadata": {
  "kernelspec": {
   "display_name": "Python 3",
   "language": "python",
   "name": "python3"
  },
  "language_info": {
   "codemirror_mode": {
    "name": "ipython",
    "version": 3
   },
   "file_extension": ".py",
   "mimetype": "text/x-python",
   "name": "python",
   "nbconvert_exporter": "python",
   "pygments_lexer": "ipython3",
   "version": "3.6.7"
  }
 },
 "nbformat": 4,
 "nbformat_minor": 2
}
